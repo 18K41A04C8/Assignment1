{
  "nbformat": 4,
  "nbformat_minor": 0,
  "metadata": {
    "colab": {
      "name": "Assignment1.ipnyb",
      "provenance": [],
      "collapsed_sections": []
    },
    "kernelspec": {
      "name": "python3",
      "display_name": "Python 3"
    }
  },
  "cells": [
    {
      "cell_type": "code",
      "metadata": {
        "id": "F8qSyp-WBVhq",
        "colab_type": "code",
        "colab": {
          "base_uri": "https://localhost:8080/",
          "height": 51
        },
        "outputId": "c35a2444-4683-425b-a0de-6a396cf27042"
      },
      "source": [
        "year=int(input(\"Enter the year for Zodiac sign:\"))\n",
        "if year%12==0:\n",
        "  print(\"monkey\")\n",
        "elif year%12==1:\n",
        "  print(\"Rooster\")\n",
        "elif year%12==2:\n",
        "  print(\"Dog\")  \n",
        "elif year%12==3:\n",
        "  print(\"Pig\")  \n",
        "elif year%12==4:\n",
        "  print(\"rat\")  \n",
        "elif year%12==5:\n",
        "  print(\"ox\")  \n",
        "elif year%12==6:\n",
        "  print(\"tiger\")  \n",
        "elif year%12==7:\n",
        "  print(\"rabbit\")  \n",
        "elif year%12==8:\n",
        "  print(\"dragon\")  \n",
        "elif year%12==9:\n",
        "  print(\"snake\")  \n",
        "elif year%12==10:\n",
        "  print(\"horse\")  \n",
        "else:\n",
        "  print(\"sheep\")"
      ],
      "execution_count": null,
      "outputs": [
        {
          "output_type": "stream",
          "text": [
            "Enter the year for Zodiac sign:2012\n",
            "dragon\n"
          ],
          "name": "stdout"
        }
      ]
    },
    {
      "cell_type": "code",
      "metadata": {
        "id": "Sx9VuekyE_4w",
        "colab_type": "code",
        "colab": {
          "base_uri": "https://localhost:8080/",
          "height": 51
        },
        "outputId": "b430fc43-a24b-4d8e-e91d-d0333c454c0b"
      },
      "source": [
        "y=int(input(\"Enter the year for Zodiac sign:\"))\n",
        "yr=y%12\n",
        "z={0:\"monkey\",1:\"rooster\",2:\"dog\",3:\"pig\",4:\"rat\",5:\"ox\",6:\"tiger\",7:\"rabbit\",8:\"dragon\",9:\"snake\",10:\"horse\",11:\"sheep\"}\n",
        "print(z[yr])"
      ],
      "execution_count": null,
      "outputs": [
        {
          "output_type": "stream",
          "text": [
            "Enter the year for Zodiac sign:2013\n",
            "snake\n"
          ],
          "name": "stdout"
        }
      ]
    },
    {
      "cell_type": "code",
      "metadata": {
        "id": "yWJiszgbHILq",
        "colab_type": "code",
        "colab": {
          "base_uri": "https://localhost:8080/",
          "height": 68
        },
        "outputId": "737cefc3-35e7-4cad-d5c9-a0b414a04ae3"
      },
      "source": [
        "dist=int(input(\"Distance to be travel:\"))\n",
        "weight=int(input(\"Weight of the goods:\"))\n",
        "if dist>=500:\n",
        "  if weight>=100:\n",
        "    cost=5*dist\n",
        "  elif weight>=10 and weight <100:\n",
        "    cost=6*dist\n",
        "  else:\n",
        "    cost=7*dist \n",
        "else:\n",
        "  if weight>=100:\n",
        "    cost=8*dist\n",
        "  else:\n",
        "    cost=5*dist  \n",
        "print(\"Amount to be charged:\",cost)        "
      ],
      "execution_count": null,
      "outputs": [
        {
          "output_type": "stream",
          "text": [
            "Distance to be travel:520\n",
            "Weight of the goods:50\n",
            "Amount to be charged: 3120\n"
          ],
          "name": "stdout"
        }
      ]
    },
    {
      "cell_type": "code",
      "metadata": {
        "id": "wIBwmCRMHWVA",
        "colab_type": "code",
        "colab": {
          "base_uri": "https://localhost:8080/",
          "height": 68
        },
        "outputId": "7b717e9f-abdc-43e3-f809-3c7a5f0bd6a2"
      },
      "source": [
        "k=[\"Stalls\",\"Circle\",\"UpperClass\",\"box\"]\n",
        "s=input(\"Type of seat:\")\n",
        "pm=input(\"Payment mode:\")\n",
        "p=\"cash\"\n",
        "if pm==p:\n",
        "  if s in k[0]:\n",
        "    dis=625*(0.1)\n",
        "    b=625-dis\n",
        "  elif s in k[1]:\n",
        "    dis=750*(0.1)\n",
        "    b=750-dis\n",
        "  elif s in k[2]:\n",
        "    dis=850*(0.1)\n",
        "    b=850-dis\n",
        "  else:\n",
        "    dis=1000*(0.1)\n",
        "    b=1000-dis\n",
        "else:\n",
        "  if s in k[0]:\n",
        "    dis=625*(0.05)\n",
        "    b=625-dis\n",
        "  elif s in k[1]:\n",
        "    dis=750*(0.05)\n",
        "    b=750-dis\n",
        "  elif s in k[2]:\n",
        "    dis=850*(0.05)\n",
        "    b=850-dis\n",
        "  else:\n",
        "    dis=1000*(0.05)\n",
        "    b=1000-dis\n",
        "print(b) "
      ],
      "execution_count": null,
      "outputs": [
        {
          "output_type": "stream",
          "text": [
            "Type of seat:Circle\n",
            "Payment mode:cash\n",
            "675.0\n"
          ],
          "name": "stdout"
        }
      ]
    },
    {
      "cell_type": "code",
      "metadata": {
        "id": "9vPXZY_QIzzj",
        "colab_type": "code",
        "colab": {
          "base_uri": "https://localhost:8080/",
          "height": 51
        },
        "outputId": "1364c804-9874-4172-9bcd-3dbe6ba94c1b"
      },
      "source": [
        "m=int(input(\"Enter Amount of water:\"))\n",
        "q=m*(100-0)*4184\n",
        "print(\"Energy:\",q)"
      ],
      "execution_count": null,
      "outputs": [
        {
          "output_type": "stream",
          "text": [
            "Enter Amount of water:100\n",
            "Energy: 41840000\n"
          ],
          "name": "stdout"
        }
      ]
    },
    {
      "cell_type": "code",
      "metadata": {
        "id": "ajvPGmWIKE6V",
        "colab_type": "code",
        "colab": {
          "base_uri": "https://localhost:8080/",
          "height": 51
        },
        "outputId": "6eb5d17b-80f5-43e7-f2db-ad8939831756"
      },
      "source": [
        "m=input(\"Enter the month:\")\n",
        "w=[\"December\",\"January\",\"February\"]\n",
        "s=[\"March\",\"April\",\"May\"]\n",
        "su=[\"June\",\"July\",\"August\"]\n",
        "a=[\"September\",\"October\",\"november\"]\n",
        "if m in w:\n",
        "  print(\"Winter\")\n",
        "if m in s:\n",
        "  print(\"Spring\")\n",
        "elif m in su:\n",
        "  print(\"Summer\")\n",
        "elif m in a:\n",
        "  print(\"Autumn\")"
      ],
      "execution_count": null,
      "outputs": [
        {
          "output_type": "stream",
          "text": [
            "Enter the month:August\n",
            "Summer\n"
          ],
          "name": "stdout"
        }
      ]
    },
    {
      "cell_type": "code",
      "metadata": {
        "id": "UhWT8VrmKxqJ",
        "colab_type": "code",
        "colab": {
          "base_uri": "https://localhost:8080/",
          "height": 85
        },
        "outputId": "949ceca9-f134-4508-f045-bbbb1ad2730b"
      },
      "source": [
        "w=float(input(\"Enter the weight:\"))\n",
        "h=float(input(\"Enter the height:\"))\n",
        "w=w*0.45359237\n",
        "h=h*0.0254\n",
        "b=w/(h**2)\n",
        "if b<18.5:\n",
        "  print(\"Underweight\")\n",
        "elif b>=18.5 and b<25.0:\n",
        "  print(\"Normal\")\n",
        "elif b>=25.0 and b<30.0:\n",
        "  print(\"Overweight\")\n",
        "else:\n",
        "  print(\"Obese\") \n",
        "print(\"BMI is:\",b)  "
      ],
      "execution_count": null,
      "outputs": [
        {
          "output_type": "stream",
          "text": [
            "Enter the weight:130.5\n",
            "Enter the height:62\n",
            "Normal\n",
            "BMI is: 23.868517206792482\n"
          ],
          "name": "stdout"
        }
      ]
    },
    {
      "cell_type": "code",
      "metadata": {
        "id": "yX7mg0dlKszU",
        "colab_type": "code",
        "colab": {
          "base_uri": "https://localhost:8080/",
          "height": 51
        },
        "outputId": "d5687d3a-3c6b-40f6-e2c3-07085a61a5ae"
      },
      "source": [
        "num=int(input(\"Enter number between 100 and 1000:\"))\n",
        "rem=0\n",
        "sumdigit=0\n",
        "if(num>=100 and num<=1000):\n",
        "    while num > 0:\n",
        "      rem=num%10\n",
        "      sumdigit=sumdigit+rem\n",
        "      num=num//10\n",
        "print(\"Sum of all digits in the integer:\",sumdigit) "
      ],
      "execution_count": 3,
      "outputs": [
        {
          "output_type": "stream",
          "text": [
            "Enter number between 100 and 1000:745\n",
            "Sum of all digits in the integer: 16\n"
          ],
          "name": "stdout"
        }
      ]
    },
    {
      "cell_type": "code",
      "metadata": {
        "id": "dGRPtha5PAjH",
        "colab_type": "code",
        "colab": {
          "base_uri": "https://localhost:8080/",
          "height": 54
        },
        "outputId": "7fecabcf-6e26-4401-efb1-b79daff1986c"
      },
      "source": [
        "# Print All Palindrome numbers between 1 to 1000\n",
        "for num in range(1,1001):\n",
        "  temp=num\n",
        "  rev=0\n",
        "  if(num>=1 and num<=1000):\n",
        "    while temp > 0:\n",
        "      rem=temp%10\n",
        "      rev=(rev*10)+rem\n",
        "      temp=temp//10\n",
        "    if num==rev:  \n",
        "      print(num ,end=\" \") "
      ],
      "execution_count": null,
      "outputs": [
        {
          "output_type": "stream",
          "text": [
            "1 2 3 4 5 6 7 8 9 11 22 33 44 55 66 77 88 99 101 111 121 131 141 151 161 171 181 191 202 212 222 232 242 252 262 272 282 292 303 313 323 333 343 353 363 373 383 393 404 414 424 434 444 454 464 474 484 494 505 515 525 535 545 555 565 575 585 595 606 616 626 636 646 656 666 676 686 696 707 717 727 737 747 757 767 777 787 797 808 818 828 838 848 858 868 878 888 898 909 919 929 939 949 959 969 979 989 999 "
          ],
          "name": "stdout"
        }
      ]
    },
    {
      "cell_type": "code",
      "metadata": {
        "id": "0VKOCFruQB0s",
        "colab_type": "code",
        "colab": {
          "base_uri": "https://localhost:8080/",
          "height": 34
        },
        "outputId": "3616e00b-0f31-4a7e-e2fd-7bbaf1f08af6"
      },
      "source": [
        "#Print All Armstrong numbers between 1 to 1000\n",
        "for num in range(1,1001):\n",
        "  sum=0\n",
        "  temp=num\n",
        "  while temp>0:\n",
        "    digit=temp%10\n",
        "    sum+=digit**3\n",
        "    temp//=10\n",
        "  if num==sum:\n",
        "    print(num,end=\" \") "
      ],
      "execution_count": null,
      "outputs": [
        {
          "output_type": "stream",
          "text": [
            "1 153 370 371 407 "
          ],
          "name": "stdout"
        }
      ]
    },
    {
      "cell_type": "code",
      "metadata": {
        "id": "i2RuxsKxQJg5",
        "colab_type": "code",
        "colab": {
          "base_uri": "https://localhost:8080/",
          "height": 1000
        },
        "outputId": "747353b1-2d41-48f9-f200-85d7e71609b9"
      },
      "source": [
        "for i in range(1,101):\n",
        "  if i%3==0 and i%5==0:\n",
        "    print(\"Fizz buzz\")\n",
        "  elif i%5==0:\n",
        "    print(\"buzz\")\n",
        "  elif i%3==0:\n",
        "    print(\"fizz\")\n",
        "  else:\n",
        "    print(i)     "
      ],
      "execution_count": null,
      "outputs": [
        {
          "output_type": "stream",
          "text": [
            "1\n",
            "2\n",
            "fizz\n",
            "4\n",
            "buzz\n",
            "fizz\n",
            "7\n",
            "8\n",
            "fizz\n",
            "buzz\n",
            "11\n",
            "fizz\n",
            "13\n",
            "14\n",
            "Fizz buzz\n",
            "16\n",
            "17\n",
            "fizz\n",
            "19\n",
            "buzz\n",
            "fizz\n",
            "22\n",
            "23\n",
            "fizz\n",
            "buzz\n",
            "26\n",
            "fizz\n",
            "28\n",
            "29\n",
            "Fizz buzz\n",
            "31\n",
            "32\n",
            "fizz\n",
            "34\n",
            "buzz\n",
            "fizz\n",
            "37\n",
            "38\n",
            "fizz\n",
            "buzz\n",
            "41\n",
            "fizz\n",
            "43\n",
            "44\n",
            "Fizz buzz\n",
            "46\n",
            "47\n",
            "fizz\n",
            "49\n",
            "buzz\n",
            "fizz\n",
            "52\n",
            "53\n",
            "fizz\n",
            "buzz\n",
            "56\n",
            "fizz\n",
            "58\n",
            "59\n",
            "Fizz buzz\n",
            "61\n",
            "62\n",
            "fizz\n",
            "64\n",
            "buzz\n",
            "fizz\n",
            "67\n",
            "68\n",
            "fizz\n",
            "buzz\n",
            "71\n",
            "fizz\n",
            "73\n",
            "74\n",
            "Fizz buzz\n",
            "76\n",
            "77\n",
            "fizz\n",
            "79\n",
            "buzz\n",
            "fizz\n",
            "82\n",
            "83\n",
            "fizz\n",
            "buzz\n",
            "86\n",
            "fizz\n",
            "88\n",
            "89\n",
            "Fizz buzz\n",
            "91\n",
            "92\n",
            "fizz\n",
            "94\n",
            "buzz\n",
            "fizz\n",
            "97\n",
            "98\n",
            "fizz\n",
            "buzz\n"
          ],
          "name": "stdout"
        }
      ]
    },
    {
      "cell_type": "code",
      "metadata": {
        "id": "YfckFd98QrAC",
        "colab_type": "code",
        "colab": {
          "base_uri": "https://localhost:8080/",
          "height": 85
        },
        "outputId": "355c785f-a516-4913-bc6e-996464245470"
      },
      "source": [
        "#Spider Problem\n",
        "h=int(input(\"h:\"))\n",
        "u=int(input(\"u:\"))\n",
        "d=int(input(\"d:\"))\n",
        "c=0\n",
        "while (u-d)*c <=(h-u):\n",
        "    c=c+1\n",
        "print(c+1)"
      ],
      "execution_count": null,
      "outputs": [
        {
          "output_type": "stream",
          "text": [
            "h:500\n",
            "u:20\n",
            "d:15\n",
            "98\n"
          ],
          "name": "stdout"
        }
      ]
    }
  ]
}